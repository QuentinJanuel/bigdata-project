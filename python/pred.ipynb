{
 "cells": [
  {
   "cell_type": "markdown",
   "metadata": {},
   "source": [
    "SIMPLE TESTS"
   ]
  },
  {
   "cell_type": "code",
   "execution_count": 1,
   "metadata": {},
   "outputs": [],
   "source": [
    "import os\n",
    "\n",
    "os.environ[\"PYSPARK_PYTHON\"] = \"python\""
   ]
  },
  {
   "cell_type": "code",
   "execution_count": 2,
   "metadata": {},
   "outputs": [],
   "source": [
    "from pyspark.sql import SparkSession\n",
    "\n",
    "spark = SparkSession\\\n",
    "    .builder\\\n",
    "    .master(\"local[*]\")\\\n",
    "    .getOrCreate()"
   ]
  },
  {
   "cell_type": "code",
   "execution_count": 3,
   "metadata": {},
   "outputs": [],
   "source": [
    "from pyspark.sql.functions import col\n",
    "\n",
    "csv_anime = spark.read.format(\"csv\")\\\n",
    "    .option(\"header\", \"true\")\\\n",
    "    .option(\"escape\", \"\\\"\")\\\n",
    "    .option(\"inferSchema\", \"true\")\\\n",
    "    .load(\"../csv/data.csv\")\\\n",
    "    .withColumn(\"score\", col(\"score\").cast(\"double\"))"
   ]
  },
  {
   "cell_type": "code",
   "execution_count": 5,
   "metadata": {},
   "outputs": [],
   "source": [
    "from pyspark.ml.feature import VectorAssembler\n",
    "\n",
    "assembler = VectorAssembler()\\\n",
    "    .setInputCols([col for col in csv_anime.columns if col != \"score\"])\\\n",
    "    .setOutputCol(\"features\")\n",
    "\n",
    "data_df = assembler\\\n",
    "    .transform(csv_anime)\\\n",
    "    .select(\"features\", \"score\")"
   ]
  },
  {
   "cell_type": "code",
   "execution_count": 6,
   "metadata": {},
   "outputs": [],
   "source": [
    "train_df, test_df = data_df.randomSplit([0.8, 0.2])"
   ]
  },
  {
   "cell_type": "code",
   "execution_count": 76,
   "metadata": {},
   "outputs": [],
   "source": [
    "from pyspark.ml.regression import (\n",
    "    DecisionTreeRegressor,\n",
    "    RandomForestRegressor,\n",
    "    GBTRegressor,\n",
    ")\n",
    "\n",
    "print(\"Decision Tree Regressor\")\n",
    "model_tree = DecisionTreeRegressor()\\\n",
    "    .setLabelCol(\"score\")\\\n",
    "    .setFeaturesCol(\"features\")\\\n",
    "    .fit(train_df)\n",
    "\n",
    "print(\"Random Forest Regressor\")\n",
    "model_random_forest = RandomForestRegressor()\\\n",
    "    .setLabelCol(\"score\")\\\n",
    "    .setFeaturesCol(\"features\")\\\n",
    "    .setNumTrees(10)\\\n",
    "    .fit(train_df)\n",
    "\n",
    "print(\"Gradient Boosted Tree Regressor\")\n",
    "model_gbt = GBTRegressor()\\\n",
    "    .setLabelCol(\"score\")\\\n",
    "    .setFeaturesCol(\"features\")\\\n",
    "    .fit(train_df)\n"
   ]
  },
  {
   "cell_type": "code",
   "execution_count": 77,
   "metadata": {},
   "outputs": [],
   "source": [
    "predictions_tree = model_tree.transform(test_df)\n",
    "predictions_random_forest = model_random_forest.transform(test_df)\n",
    "predictions_gbt = model_gbt.transform(test_df)"
   ]
  },
  {
   "cell_type": "code",
   "execution_count": 78,
   "metadata": {},
   "outputs": [
    {
     "name": "stdout",
     "output_type": "stream",
     "text": [
      "Decision tree: rmse = 3.044417074181475\n",
      "Random forest: rmse = 3.0435001772367203\n",
      "Gradient Boosted Tree: rmse = 2.9433101966278787\n"
     ]
    }
   ],
   "source": [
    "from pyspark.ml.evaluation import RegressionEvaluator\n",
    "\n",
    "evaluator = RegressionEvaluator(\n",
    "    labelCol=\"score\",\n",
    "    predictionCol=\"prediction\",\n",
    "    metricName=\"rmse\",\n",
    ")\n",
    "\n",
    "error_tree = evaluator.evaluate(predictions_tree)\n",
    "print(f\"Decision tree: rmse = {error_tree}\")\n",
    "\n",
    "error_random_forest = evaluator.evaluate(predictions_random_forest)\n",
    "print(f\"Random forest: rmse = {error_random_forest}\")\n",
    "\n",
    "error_gbt = evaluator.evaluate(predictions_gbt)\n",
    "print(f\"Gradient Boosted Tree: rmse = {error_gbt}\")"
   ]
  },
  {
   "cell_type": "markdown",
   "metadata": {},
   "source": [
    "MATRIX FACTORIZATION"
   ]
  },
  {
   "cell_type": "code",
   "execution_count": 3,
   "metadata": {},
   "outputs": [],
   "source": [
    "from pyspark.mllib.recommendation import ALS, Rating\n",
    "\n",
    "from pyspark.sql.functions import col\n",
    "\n",
    "csv_anime = spark.read.format(\"csv\")\\\n",
    "    .option(\"header\", \"true\")\\\n",
    "    .option(\"escape\", \"\\\"\")\\\n",
    "    .option(\"inferSchema\", \"true\")\\\n",
    "    .load(\"../csv/data2.csv\")\\\n",
    "    .withColumn(\"rating\", col(\"rating\").cast(\"double\"))"
   ]
  },
  {
   "cell_type": "code",
   "execution_count": 4,
   "metadata": {},
   "outputs": [],
   "source": [
    "ratings = csv_anime.rdd.map(lambda row: Rating(row.user, row.product, row.rating))"
   ]
  },
  {
   "cell_type": "code",
   "execution_count": 5,
   "metadata": {},
   "outputs": [],
   "source": [
    "rank = 10\n",
    "numIterations = 10\n",
    "model = ALS.train(ratings, rank, numIterations)"
   ]
  },
  {
   "cell_type": "code",
   "execution_count": 6,
   "metadata": {},
   "outputs": [],
   "source": [
    "testdata = ratings.map(lambda p: (p[0], p[1]))"
   ]
  },
  {
   "cell_type": "code",
   "execution_count": 7,
   "metadata": {},
   "outputs": [],
   "source": [
    "predictions = model.predictAll(testdata).map(lambda r: ((r[0], r[1]), r[2]))"
   ]
  },
  {
   "cell_type": "code",
   "execution_count": 8,
   "metadata": {},
   "outputs": [],
   "source": [
    "ratesAndPreds = ratings.map(lambda r: ((r[0], r[1]), r[2])).join(predictions)"
   ]
  },
  {
   "cell_type": "code",
   "execution_count": 9,
   "metadata": {},
   "outputs": [],
   "source": [
    "MSE = ratesAndPreds.map(lambda r: (r[1][0] - r[1][1])**2).mean()"
   ]
  },
  {
   "cell_type": "code",
   "execution_count": 10,
   "metadata": {},
   "outputs": [],
   "source": [
    "import math\n",
    "\n",
    "RMSE = math.sqrt(MSE)"
   ]
  },
  {
   "cell_type": "code",
   "execution_count": 11,
   "metadata": {},
   "outputs": [
    {
     "name": "stdout",
     "output_type": "stream",
     "text": [
      "RMSE: 0.311464908266571\n"
     ]
    }
   ],
   "source": [
    "print(\"RMSE: \" + str(RMSE))"
   ]
  },
  {
   "cell_type": "code",
   "execution_count": 9,
   "metadata": {},
   "outputs": [],
   "source": [
    "import sqlite3\n",
    "\n",
    "sqlite_conn = sqlite3.connect(\"../prisma/dev.db\")\n",
    "sqlite_cur = sqlite_conn.cursor()\n",
    "\n",
    "users = list(set([u[\"user\"] for u in csv_anime.select(\"user\").collect()]))\n",
    "animes = list(set([a[\"product\"] for a in csv_anime.select(\"product\").collect()]))\n",
    "\n",
    "def get_user_name(id: int) -> str:\n",
    "    return sqlite_cur.execute(f\"SELECT name FROM user WHERE id={id}\").fetchone()[0]\n",
    "\n",
    "def get_anime_title(id: int) -> str:\n",
    "    return sqlite_cur.execute(f\"SELECT titleEnglish FROM anime WHERE id={id}\").fetchone()[0]\n",
    "\n",
    "def get_best_animes(user: int, n: int = 5) -> list:\n",
    "    return [r.product for r in model.recommendProducts(user, n)]\n",
    "\n",
    "def recommend_user(id: int):\n",
    "    username = get_user_name(id)\n",
    "    best_animes = get_best_animes(id)\n",
    "    print(f\"Recommendations for {username}:\")\n",
    "    for anime in best_animes:\n",
    "        print(f\"\\t{get_anime_title(anime)}\")"
   ]
  },
  {
   "cell_type": "code",
   "execution_count": 15,
   "metadata": {},
   "outputs": [
    {
     "name": "stdout",
     "output_type": "stream",
     "text": [
      "Recommendations for karthiga:\n",
      "\tNaruto\n",
      "\tLog Horizon\n",
      "\tD.Gray-man\n",
      "\tNeon Genesis Evangelion\n",
      "\tK-ON!\n"
     ]
    }
   ],
   "source": [
    "recommend_user(2255153)"
   ]
  },
  {
   "cell_type": "code",
   "execution_count": 18,
   "metadata": {},
   "outputs": [
    {
     "data": {
      "text/plain": [
       "5.797619985466222"
      ]
     },
     "execution_count": 18,
     "metadata": {},
     "output_type": "execute_result"
    }
   ],
   "source": [
    "model.predict(2255153, 232)"
   ]
  },
  {
   "cell_type": "code",
   "execution_count": 23,
   "metadata": {},
   "outputs": [
    {
     "data": {
      "text/plain": [
       "['MistButterfly', 'Tomoki-sama', 'bskai']"
      ]
     },
     "execution_count": 23,
     "metadata": {},
     "output_type": "execute_result"
    }
   ],
   "source": [
    "[get_user_name(r.user) for r in model.recommendUsers(232, 3)]"
   ]
  },
  {
   "cell_type": "code",
   "execution_count": 14,
   "metadata": {},
   "outputs": [
    {
     "name": "stdout",
     "output_type": "stream",
     "text": [
      "\n",
      "graph G {\n",
      "    fontname=\"Helvetica,Arial,sans-serif\"\n",
      "    node [fontname=\"Helvetica,Arial,sans-serif\"]\n",
      "    edge [fontname=\"Helvetica,Arial,sans-serif\"]\n",
      "    U1 [shape=ellipse,color=red,style=bold,label=\"Xinil\",labelloc=b];\n",
      "    A801 [shape=box,color=blue,style=bold,label=\"Ghost in the Shell: Stand Alone Complex 2nd GIG\",labelloc=b];\n",
      "    A72 [shape=box,color=blue,style=bold,label=\"Full Metal Panic? Fumoffu\",labelloc=b];\n",
      "    U14658 [shape=ellipse,color=red,style=bold,label=\"L-LawlietDN\",labelloc=b];\n",
      "    A30 [shape=box,color=blue,style=bold,label=\"Neon Genesis Evangelion\",labelloc=b];\n",
      "    A165 [shape=box,color=blue,style=bold,label=\"RahXephon\",labelloc=b];\n",
      "    U167812 [shape=ellipse,color=red,style=bold,label=\"LyannaStark\",labelloc=b];\n",
      "    A12189 [shape=box,color=blue,style=bold,label=\"Hyouka\",labelloc=b];\n",
      "    A11597 [shape=box,color=blue,style=bold,label=\"Nisemonogatari\",labelloc=b];\n",
      "    U2637159 [shape=ellipse,color=red,style=bold,label=\"Lithuelle\",labelloc=b];\n",
      "    A1482 [shape=box,color=blue,style=bold,label=\"D.Gray-man\",labelloc=b];\n",
      "    A6213 [shape=box,color=blue,style=bold,label=\"A Certain Scientific Railgun\",labelloc=b];\n",
      "    U158248 [shape=ellipse,color=red,style=bold,label=\"Sakurei\",labelloc=b];\n",
      "    A22 [shape=box,color=blue,style=bold,label=\"The Prince of Tennis\",labelloc=b];\n",
      "    A136 [shape=box,color=blue,style=bold,label=\"Hunter x Hunter\",labelloc=b];\n",
      "    U340873 [shape=ellipse,color=red,style=bold,label=\"xTheFallenx\",labelloc=b];\n",
      "    A5630 [shape=box,color=blue,style=bold,label=\"Eden of The East\",labelloc=b];\n",
      "    A2251 [shape=box,color=blue,style=bold,label=\"Baccano!\",labelloc=b];\n",
      "    U61677 [shape=ellipse,color=red,style=bold,label=\"Slimak\",labelloc=b];\n",
      "    A1735 [shape=box,color=blue,style=bold,label=\"Naruto: Shippuden\",labelloc=b];\n",
      "    A16498 [shape=box,color=blue,style=bold,label=\"Attack on Titan\",labelloc=b];\n",
      "    U37326 [shape=ellipse,color=red,style=bold,label=\"Damonashu\",labelloc=b];\n",
      "    A777 [shape=box,color=blue,style=bold,label=\"Hellsing Ultimate\",labelloc=b];\n",
      "    A8675 [shape=box,color=blue,style=bold,label=\"\",labelloc=b];\n",
      "    U2485327 [shape=ellipse,color=red,style=bold,label=\"MistButterfly\",labelloc=b];\n",
      "    A2026 [shape=box,color=blue,style=bold,label=\"Hayate the Combat Butler\",labelloc=b];\n",
      "    A2904 [shape=box,color=blue,style=bold,label=\"Code Geass: Lelouch of the Rebellion R2\",labelloc=b];\n",
      "    U2255153 [shape=ellipse,color=red,style=bold,label=\"karthiga\",labelloc=b];\n",
      "    A20 [shape=box,color=blue,style=bold,label=\"Naruto\",labelloc=b];\n",
      "    A17265 [shape=box,color=blue,style=bold,label=\"Log Horizon\",labelloc=b];\n",
      "    U144049 [shape=ellipse,color=red,style=bold,label=\"kioniel\",labelloc=b];\n",
      "    A1571 [shape=box,color=blue,style=bold,label=\"Ghost Hunt\",labelloc=b];\n",
      "    A4081 [shape=box,color=blue,style=bold,label=\"Natsume&#039;s Book of Friends\",labelloc=b];\n",
      "    U18867 [shape=ellipse,color=red,style=bold,label=\"ihasabucket\",labelloc=b];\n",
      "    A205 [shape=box,color=blue,style=bold,label=\"Samurai Champloo\",labelloc=b];\n",
      "    A1726 [shape=box,color=blue,style=bold,label=\"Devil May Cry\",labelloc=b];\n",
      "    U19539 [shape=ellipse,color=red,style=bold,label=\"scootarski\",labelloc=b];\n",
      "    A34599 [shape=box,color=blue,style=bold,label=\"Made in Abyss\",labelloc=b];\n",
      "    A6594 [shape=box,color=blue,style=bold,label=\"Katanagatari\",labelloc=b];\n",
      "    U82964 [shape=ellipse,color=red,style=bold,label=\"Akihara\",labelloc=b];\n",
      "    A199 [shape=box,color=blue,style=bold,label=\"Spirited Away\",labelloc=b];\n",
      "    A5680 [shape=box,color=blue,style=bold,label=\"K-ON!\",labelloc=b];\n",
      "    U228342 [shape=ellipse,color=red,style=bold,label=\"bskai\",labelloc=b];\n",
      "    A11061 [shape=box,color=blue,style=bold,label=\"Hunter x Hunter\",labelloc=b];\n",
      "    A33486 [shape=box,color=blue,style=bold,label=\"My Hero Academia 2\",labelloc=b];\n",
      "    U1933206 [shape=ellipse,color=red,style=bold,label=\"Tomoki-sama\",labelloc=b];\n",
      "    A3588 [shape=box,color=blue,style=bold,label=\"Soul Eater\",labelloc=b];\n",
      "    U4511507 [shape=ellipse,color=red,style=bold,label=\"magedgamed\",labelloc=b];\n",
      "    A2966 [shape=box,color=blue,style=bold,label=\"Spice and Wolf\",labelloc=b];\n",
      "    U183036 [shape=ellipse,color=red,style=bold,label=\"Perfection_Freak\",labelloc=b];\n",
      "    A355 [shape=box,color=blue,style=bold,label=\"Shakugan no Shana: Season I\",labelloc=b];\n",
      "    U1 -- A801  [style=bold,color=blue];\n",
      "    U1 -- A72  [style=bold,color=blue];\n",
      "    U14658 -- A30  [style=bold,color=blue];\n",
      "    U14658 -- A165  [style=bold,color=blue];\n",
      "    U167812 -- A12189  [style=bold,color=blue];\n",
      "    U167812 -- A11597  [style=bold,color=blue];\n",
      "    U2637159 -- A1482  [style=bold,color=blue];\n",
      "    U2637159 -- A6213  [style=bold,color=blue];\n",
      "    U158248 -- A22  [style=bold,color=blue];\n",
      "    U158248 -- A136  [style=bold,color=blue];\n",
      "    U340873 -- A5630  [style=bold,color=blue];\n",
      "    U340873 -- A2251  [style=bold,color=blue];\n",
      "    U61677 -- A1735  [style=bold,color=blue];\n",
      "    U61677 -- A16498  [style=bold,color=blue];\n",
      "    U37326 -- A777  [style=bold,color=blue];\n",
      "    U37326 -- A8675  [style=bold,color=blue];\n",
      "    U2485327 -- A2026  [style=bold,color=blue];\n",
      "    U2485327 -- A2904  [style=bold,color=blue];\n",
      "    U2255153 -- A20  [style=bold,color=blue];\n",
      "    U2255153 -- A17265  [style=bold,color=blue];\n",
      "    U144049 -- A1571  [style=bold,color=blue];\n",
      "    U144049 -- A4081  [style=bold,color=blue];\n",
      "    U18867 -- A205  [style=bold,color=blue];\n",
      "    U18867 -- A1726  [style=bold,color=blue];\n",
      "    U19539 -- A34599  [style=bold,color=blue];\n",
      "    U19539 -- A6594  [style=bold,color=blue];\n",
      "    U82964 -- A199  [style=bold,color=blue];\n",
      "    U82964 -- A5680  [style=bold,color=blue];\n",
      "    U228342 -- A11061  [style=bold,color=blue];\n",
      "    U228342 -- A33486  [style=bold,color=blue];\n",
      "    U1933206 -- A3588  [style=bold,color=blue];\n",
      "    U1933206 -- A1726  [style=bold,color=blue];\n",
      "    U4511507 -- A2966  [style=bold,color=blue];\n",
      "    U4511507 -- A1726  [style=bold,color=blue];\n",
      "    U183036 -- A6594  [style=bold,color=blue];\n",
      "    U183036 -- A355  [style=bold,color=blue];\n",
      "}\n",
      "\n"
     ]
    }
   ],
   "source": [
    "dot = \"\"\"\n",
    "graph G {\n",
    "    fontname=\"Helvetica,Arial,sans-serif\"\n",
    "    node [fontname=\"Helvetica,Arial,sans-serif\"]\n",
    "    edge [fontname=\"Helvetica,Arial,sans-serif\"]\n",
    "\"\"\"\n",
    "\n",
    "def add_line(line: str):\n",
    "    global dot\n",
    "    dot += \"    \" + line + \"\\n\"\n",
    "\n",
    "animes_added = []\n",
    "\n",
    "N = 2\n",
    "\n",
    "for user_id in users:\n",
    "    user_name = get_user_name(user_id)\n",
    "    add_line(f\"U{user_id} [shape=ellipse,color=red,style=bold,label=\\\"{user_name}\\\",labelloc=b];\")\n",
    "    best_animes = get_best_animes(user_id, N)\n",
    "    for anime_id in best_animes:\n",
    "        if anime_id in animes_added:\n",
    "            continue\n",
    "        animes_added.append(anime_id)\n",
    "        anime_title = get_anime_title(anime_id)\n",
    "        anime_title = anime_title.replace(\"\\\"\", \"\")\n",
    "        add_line(f\"A{anime_id} [shape=box,color=blue,style=bold,label=\\\"{anime_title}\\\",labelloc=b];\")\n",
    "\n",
    "for user_id in users:\n",
    "    best_animes = get_best_animes(user_id, N)\n",
    "    for anime_id in best_animes:\n",
    "        add_line(f\"U{user_id} -- A{anime_id}  [style=bold,color=blue];\")\n",
    "\n",
    "dot += \"}\\n\"\n",
    "print(dot)\n",
    "\n",
    "with open(\"../graph.dot\", \"w\") as f:\n",
    "    f.write(dot)"
   ]
  }
 ],
 "metadata": {
  "interpreter": {
   "hash": "b5474208bf1f0a06244c45194a981d3a26092aeeabac10f018062612a4ec2037"
  },
  "kernelspec": {
   "display_name": "Python 3.10.2 ('.venv': venv)",
   "language": "python",
   "name": "python3"
  },
  "language_info": {
   "codemirror_mode": {
    "name": "ipython",
    "version": 3
   },
   "file_extension": ".py",
   "mimetype": "text/x-python",
   "name": "python",
   "nbconvert_exporter": "python",
   "pygments_lexer": "ipython3",
   "version": "3.10.2"
  },
  "orig_nbformat": 4
 },
 "nbformat": 4,
 "nbformat_minor": 2
}
