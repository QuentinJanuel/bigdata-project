{
 "cells": [
  {
   "cell_type": "code",
   "execution_count": 1,
   "metadata": {},
   "outputs": [
    {
     "name": "stdout",
     "output_type": "stream",
     "text": [
      "There are 43 genres in the database.\n"
     ]
    }
   ],
   "source": [
    "import sqlite3\n",
    "\n",
    "db_path = \"../prisma/dev.db\"\n",
    "conn = sqlite3.connect(db_path)\n",
    "cur = conn.cursor()\n",
    "n_genres = cur.execute(\"SELECT COUNT(id) FROM genre\").fetchone()[0]\n",
    "print(f\"There are {n_genres} genres in the database.\")"
   ]
  },
  {
   "cell_type": "code",
   "execution_count": 2,
   "metadata": {},
   "outputs": [],
   "source": [
    "import os\n",
    "\n",
    "os.environ[\"PYSPARK_PYTHON\"] = \"python\""
   ]
  },
  {
   "cell_type": "code",
   "execution_count": 3,
   "metadata": {},
   "outputs": [],
   "source": [
    "from pyspark.sql import SparkSession\n",
    "\n",
    "spark = SparkSession\\\n",
    "    .builder\\\n",
    "    .master(\"local[*]\")\\\n",
    "    .getOrCreate()"
   ]
  },
  {
   "cell_type": "code",
   "execution_count": 4,
   "metadata": {},
   "outputs": [],
   "source": [
    "anime = spark.read.format(\"csv\")\\\n",
    "    .option(\"header\", \"true\")\\\n",
    "    .option(\"escape\", \"\\\"\")\\\n",
    "    .load(\"../csv/anime_cleaned.csv\")"
   ]
  },
  {
   "cell_type": "code",
   "execution_count": 5,
   "metadata": {},
   "outputs": [
    {
     "name": "stdout",
     "output_type": "stream",
     "text": [
      "There are 43 genres in the database.\n"
     ]
    }
   ],
   "source": [
    "n_genres = anime\\\n",
    "    .rdd\\\n",
    "    .map(lambda row: row[\"genre\"])\\\n",
    "    .filter(lambda g: g is not None)\\\n",
    "    .flatMap(lambda g: g.split(\", \"))\\\n",
    "    .distinct()\\\n",
    "    .count()\n",
    "print(f\"There are {n_genres} genres in the database.\")"
   ]
  }
 ],
 "metadata": {
  "interpreter": {
   "hash": "b5474208bf1f0a06244c45194a981d3a26092aeeabac10f018062612a4ec2037"
  },
  "kernelspec": {
   "display_name": "Python 3.10.2 ('.venv': venv)",
   "language": "python",
   "name": "python3"
  },
  "language_info": {
   "codemirror_mode": {
    "name": "ipython",
    "version": 3
   },
   "file_extension": ".py",
   "mimetype": "text/x-python",
   "name": "python",
   "nbconvert_exporter": "python",
   "pygments_lexer": "ipython3",
   "version": "3.10.2"
  },
  "orig_nbformat": 4
 },
 "nbformat": 4,
 "nbformat_minor": 2
}
