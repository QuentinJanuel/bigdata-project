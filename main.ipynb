{
 "cells": [
  {
   "cell_type": "markdown",
   "metadata": {},
   "source": [
    "# MyAnimeList"
   ]
  },
  {
   "cell_type": "markdown",
   "metadata": {},
   "source": [
    "### Prerequisites:"
   ]
  },
  {
   "cell_type": "code",
   "execution_count": null,
   "metadata": {},
   "outputs": [],
   "source": [
    "%pip install --upgrade pyspark\n",
    "%pip install --upgrade numpy\n",
    "%pip install --upgrade pandas\n",
    "%pip freeze > requirements.txt\n"
   ]
  },
  {
   "cell_type": "code",
   "execution_count": 2,
   "metadata": {},
   "outputs": [],
   "source": [
    "from pyspark.sql import SparkSession\n",
    "from pyspark import SparkContext\n",
    "\n",
    "sc = SparkContext()\n",
    "spark = SparkSession\\\n",
    "    .builder\\\n",
    "    .getOrCreate()\n",
    "\n",
    "anime_df = spark.read.csv(\n",
    "    \"./csv/AnimeList.csv\",\n",
    "    header=True,\n",
    "    inferSchema=True,\n",
    "    sep=\",\",\n",
    ")"
   ]
  },
  {
   "cell_type": "code",
   "execution_count": 43,
   "metadata": {},
   "outputs": [
    {
     "name": "stdout",
     "output_type": "stream",
     "text": [
      "+--------------------+\n",
      "|               genre|\n",
      "+--------------------+\n",
      "|[Comedy,  Superna...|\n",
      "|[Comedy,  Parody,...|\n",
      "|[Comedy,  Magic, ...|\n",
      "|[Comedy,  Drama, ...|\n",
      "|[Comedy,  Drama, ...|\n",
      "|[Kids,  School,  ...|\n",
      "|[Magic,  Comedy, ...|\n",
      "|[Action,  Drama, ...|\n",
      "|[Music,  Slice of...|\n",
      "|[Comedy,  Harem, ...|\n",
      "|[Comedy,  Drama, ...|\n",
      "|[Comedy,  Romance...|\n",
      "|[Comedy,  Drama, ...|\n",
      "|[Slice of Life,  ...|\n",
      "|[Action,  Adventu...|\n",
      "| [TBS,  Pioneer LDC]|\n",
      "|[Slice of Life,  ...|\n",
      "|[ 'title': 'Narut...|\n",
      "|[Slice of Life,  ...|\n",
      "|[Slice of Life,  ...|\n",
      "+--------------------+\n",
      "only showing top 20 rows\n",
      "\n"
     ]
    }
   ],
   "source": [
    "from pyspark.sql.functions import split, regexp_replace\n",
    "\n",
    "anime_df\\\n",
    "    .drop(\n",
    "        \"title\",\n",
    "        \"title_english\",\n",
    "        \"title_japanese\",\n",
    "        \"title_synonyms\",\n",
    "        \"image_url\",\n",
    "        \"background\",\n",
    "        \"broadcast\",\n",
    "        \"related\",\n",
    "        \"opening_theme\",\n",
    "        \"ending_theme\",\n",
    "        \"studio\",\n",
    "        \"premiere\",\n",
    "        \"producer\",\n",
    "        \"licensor\",\n",
    "        \"rank\",\n",
    "    )\\\n",
    "    .fillna({\"genre\": \"\"})\\\n",
    "    .withColumn(\n",
    "        \"genre\",\n",
    "        split(\n",
    "            regexp_replace('genre', ' ', ''),\n",
    "            \",\",\n",
    "        )\n",
    "    )\\\n",
    "    .select(\"genre\")\\\n",
    "    .show()\n"
   ]
  }
 ],
 "metadata": {
  "interpreter": {
   "hash": "7ffb7ad9cafc974dbcb11b45c0696d99bda1c6434f2a2d89f8e26b15740a9bf3"
  },
  "kernelspec": {
   "display_name": "Python 3.10.2 64-bit ('.venv': venv)",
   "language": "python",
   "name": "python3"
  },
  "language_info": {
   "codemirror_mode": {
    "name": "ipython",
    "version": 3
   },
   "file_extension": ".py",
   "mimetype": "text/x-python",
   "name": "python",
   "nbconvert_exporter": "python",
   "pygments_lexer": "ipython3",
   "version": "3.10.2"
  },
  "orig_nbformat": 4
 },
 "nbformat": 4,
 "nbformat_minor": 2
}
