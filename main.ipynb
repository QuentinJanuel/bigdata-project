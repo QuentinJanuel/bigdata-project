{
 "cells": [
  {
   "cell_type": "markdown",
   "metadata": {},
   "source": [
    "# MyAnimeList"
   ]
  },
  {
   "cell_type": "markdown",
   "metadata": {},
   "source": [
    "### Prerequisites:"
   ]
  },
  {
   "cell_type": "code",
   "execution_count": null,
   "metadata": {},
   "outputs": [],
   "source": [
    "%pip install --upgrade pyspark\n",
    "%pip install --upgrade numpy\n",
    "%pip install --upgrade pandas\n",
    "%pip freeze > requirements.txt\n"
   ]
  },
  {
   "cell_type": "code",
   "execution_count": null,
   "metadata": {},
   "outputs": [],
   "source": [
    "import pandas as pd\n",
    "\n",
    "animelist = pd.read_csv(\"csv/AnimeList.csv\", delimiter=\",\", nrows=None)\n",
    "print(animelist.shape[0])\n",
    "tenthBest = animelist[\"scored_by\"].quantile(0.9)\n",
    "averageScore = animelist[\"score\"].mean()\n",
    "animelist = animelist[animelist[\"scored_by\"] >= tenthBest]\n",
    "print(animelist.shape[0])\n",
    "\n",
    "def weighted_score(x):\n",
    "    c = \n",
    "    s = \n",
    "    return x[\"scored_by\"] / (tenthBest + x[\"scored_by\"]) * x[\"score\"]\n",
    "        + tenthBest / (tenthBest + x[\"scored_by\"]) * averageScore"
   ]
  }
 ],
 "metadata": {
  "interpreter": {
   "hash": "7ffb7ad9cafc974dbcb11b45c0696d99bda1c6434f2a2d89f8e26b15740a9bf3"
  },
  "kernelspec": {
   "display_name": "Python 3.10.2 64-bit ('.venv': venv)",
   "language": "python",
   "name": "python3"
  },
  "language_info": {
   "codemirror_mode": {
    "name": "ipython",
    "version": 3
   },
   "file_extension": ".py",
   "mimetype": "text/x-python",
   "name": "python",
   "nbconvert_exporter": "python",
   "pygments_lexer": "ipython3",
   "version": "3.10.2"
  },
  "orig_nbformat": 4
 },
 "nbformat": 4,
 "nbformat_minor": 2
}
