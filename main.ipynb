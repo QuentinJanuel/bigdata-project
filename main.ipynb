{
 "cells": [
  {
   "cell_type": "markdown",
   "metadata": {},
   "source": [
    "# MyAnimeList"
   ]
  },
  {
   "cell_type": "markdown",
   "metadata": {},
   "source": [
    "### Prerequisites:"
   ]
  },
  {
   "cell_type": "code",
   "execution_count": null,
   "metadata": {},
   "outputs": [],
   "source": [
    "%pip install --upgrade pyspark\n",
    "%pip install --upgrade numpy\n",
    "%pip install --upgrade pandas\n",
    "%pip freeze > requirements.txt\n"
   ]
  },
  {
   "cell_type": "code",
   "execution_count": null,
   "metadata": {},
   "outputs": [],
   "source": [
    "from pyspark.sql import SparkSession\n",
    "from pyspark import SparkContext\n",
    "\n",
    "sc = SparkContext.getOrCreate()\n",
    "spark = SparkSession\\\n",
    "    .builder\\\n",
    "    .getOrCreate()\n",
    "\n",
    "anime_df = spark.read.csv(\n",
    "    \"./csv/AnimeList.csv\",\n",
    "    header=True,\n",
    "    inferSchema=True,\n",
    "    sep=\",\",\n",
    ")"
   ]
  },
  {
   "cell_type": "code",
   "execution_count": null,
   "metadata": {},
   "outputs": [],
   "source": [
    "from pyspark.sql.functions import split, regexp_replace, col\n",
    "from pyspark.sql.types import FloatType\n",
    "\n",
    "anime_df = anime_df\\\n",
    "    .drop(\n",
    "        \"title\",\n",
    "        \"title_english\",\n",
    "        \"title_japanese\",\n",
    "        \"title_synonyms\",\n",
    "        \"image_url\",\n",
    "        \"background\",\n",
    "        \"broadcast\",\n",
    "        \"related\",\n",
    "        \"opening_theme\",\n",
    "        \"ending_theme\",\n",
    "        \"studio\",\n",
    "        \"premiere\",\n",
    "        \"producer\",\n",
    "        \"licensor\",\n",
    "        \"rank\",\n",
    "    )\\\n",
    "    .fillna({\"genre\": \"\"})\\\n",
    "    .withColumn(\n",
    "        \"genre\",\n",
    "        split(\n",
    "            regexp_replace('genre', ' ', ''),\n",
    "            \",\",\n",
    "        )\n",
    "    )\n",
    "\n",
    "for col_name in [\n",
    "    \"episodes\",\n",
    "    \"score\",\n",
    "    \"scored_by\",\n",
    "    \"popularity\",\n",
    "    \"members\",\n",
    "    \"favorites\",\n",
    "    ]:\n",
    "    anime_df = anime_df.withColumn(col_name, col(col_name).cast(FloatType()))"
   ]
  },
  {
   "cell_type": "code",
   "execution_count": null,
   "metadata": {},
   "outputs": [],
   "source": [
    "from pyspark.ml.feature import CountVectorizer\n",
    "\n",
    "anime_df = CountVectorizer(\n",
    "    inputCol=\"genre\",\n",
    "    outputCol=\"genre_fv\"\n",
    ")\\\n",
    "    .fit(anime_df)\\\n",
    "    .transform(anime_df)\\\n",
    "    .drop(\"genre\")"
   ]
  },
  {
   "cell_type": "code",
   "execution_count": null,
   "metadata": {},
   "outputs": [],
   "source": [
    "from pyspark.ml.feature import StringIndexer, OneHotEncoder\n",
    "\n",
    "categoricalColumns = [\"type\", \"source\", \"status\", \"rating\"]\n",
    "stages = []\n",
    "for categoricalCol in categoricalColumns:\n",
    "    stringIndexer = StringIndexer(\n",
    "        inputCol=categoricalCol,\n",
    "        outputCol=categoricalCol + \"Index\",\n",
    "    )\n",
    "    encoder = OneHotEncoder(\n",
    "        inputCol=stringIndexer.getOutputCol(),\n",
    "        outputCol=categoricalCol + \"classVec\",\n",
    "    )\n",
    "    stages += [stringIndexer, encoder]"
   ]
  },
  {
   "cell_type": "code",
   "execution_count": 8,
   "metadata": {},
   "outputs": [
    {
     "data": {
      "text/plain": [
       "['typeclassVec',\n",
       " 'sourceclassVec',\n",
       " 'statusclassVec',\n",
       " 'ratingclassVec',\n",
       " 'episodes',\n",
       " 'score',\n",
       " 'scored_by',\n",
       " 'popularity',\n",
       " 'members',\n",
       " 'favorites',\n",
       " 'genre_fv']"
      ]
     },
     "execution_count": 8,
     "metadata": {},
     "output_type": "execute_result"
    }
   ],
   "source": [
    "from pyspark.ml.feature import VectorAssembler\n",
    "\n",
    "numericCols = [\"episodes\", \"score\", \"scored_by\", \"popularity\", \"members\", \"favorites\", \"genre_fv\"]\n",
    "assemblerInputs = [c + \"classVec\" for c in categoricalColumns] + numericCols\n",
    "assembler = "
   ]
  }
 ],
 "metadata": {
  "interpreter": {
   "hash": "7ffb7ad9cafc974dbcb11b45c0696d99bda1c6434f2a2d89f8e26b15740a9bf3"
  },
  "kernelspec": {
   "display_name": "Python 3.10.2 64-bit ('.venv': venv)",
   "language": "python",
   "name": "python3"
  },
  "language_info": {
   "codemirror_mode": {
    "name": "ipython",
    "version": 3
   },
   "file_extension": ".py",
   "mimetype": "text/x-python",
   "name": "python",
   "nbconvert_exporter": "python",
   "pygments_lexer": "ipython3",
   "version": "3.10.2"
  },
  "orig_nbformat": 4
 },
 "nbformat": 4,
 "nbformat_minor": 2
}
