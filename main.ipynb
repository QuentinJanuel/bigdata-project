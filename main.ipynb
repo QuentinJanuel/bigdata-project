{
 "cells": [
  {
   "cell_type": "markdown",
   "metadata": {},
   "source": [
    "# YouTube"
   ]
  },
  {
   "cell_type": "markdown",
   "metadata": {},
   "source": [
    "### Prerequisites:"
   ]
  },
  {
   "cell_type": "code",
   "execution_count": null,
   "metadata": {},
   "outputs": [],
   "source": [
    "%pip install --upgrade google-api-python-client\n",
    "%pip install --upgrade pyspark\n",
    "%pip freeze > requirements.txt\n"
   ]
  },
  {
   "cell_type": "markdown",
   "metadata": {},
   "source": [
    "### Loading the API key:"
   ]
  },
  {
   "cell_type": "code",
   "execution_count": null,
   "metadata": {},
   "outputs": [],
   "source": [
    "import json\n",
    "\n",
    "file = open(\"credentials.json\")\n",
    "credentials = json.load(file)\n",
    "file.close()\n",
    "\n",
    "YOUTUBE_API_KEY = credentials[\"YOUTUBE-API-KEY\"]"
   ]
  },
  {
   "cell_type": "markdown",
   "metadata": {},
   "source": [
    "### Test:"
   ]
  },
  {
   "cell_type": "code",
   "execution_count": null,
   "metadata": {},
   "outputs": [],
   "source": [
    "from googleapiclient.discovery import build, Resource\n",
    "\n",
    "youtube = build(\"youtube\", \"v3\", developerKey=YOUTUBE_API_KEY)\n",
    "data = youtube.search().list(\n",
    "    part=\"snippet\",\n",
    "    q=\"table\",\n",
    "    type=\"video\",\n",
    "    maxResults=2,\n",
    "    regionCode=\"FR\",\n",
    ").execute()\n",
    "data"
   ]
  },
  {
   "cell_type": "code",
   "execution_count": 10,
   "metadata": {},
   "outputs": [
    {
     "name": "stdout",
     "output_type": "stream",
     "text": [
      "Spark is working!\n"
     ]
    }
   ],
   "source": [
    "from pyspark import SparkContext\n",
    "\n",
    "ctx = SparkContext.getOrCreate()\n",
    "print(\"Spark is working!\")\n"
   ]
  }
 ],
 "metadata": {
  "interpreter": {
   "hash": "7ffb7ad9cafc974dbcb11b45c0696d99bda1c6434f2a2d89f8e26b15740a9bf3"
  },
  "kernelspec": {
   "display_name": "Python 3.10.2 64-bit ('.venv': venv)",
   "language": "python",
   "name": "python3"
  },
  "language_info": {
   "codemirror_mode": {
    "name": "ipython",
    "version": 3
   },
   "file_extension": ".py",
   "mimetype": "text/x-python",
   "name": "python",
   "nbconvert_exporter": "python",
   "pygments_lexer": "ipython3",
   "version": "3.10.2"
  },
  "orig_nbformat": 4
 },
 "nbformat": 4,
 "nbformat_minor": 2
}
